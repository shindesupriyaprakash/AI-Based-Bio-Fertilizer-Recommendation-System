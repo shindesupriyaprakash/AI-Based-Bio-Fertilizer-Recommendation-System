{
 "cells": [
  {
   "cell_type": "markdown",
   "id": "fec951f0",
   "metadata": {},
   "source": [
    "Project Title: Bio-Fertilizer Recommendation System for Sustainable Agriculture\n",
    "\n",
    "Problem Statement: The overuse of chemical fertilizers in agriculture has resulted in high farming expenses, water contamination, and soil damage.  Farmers frequently abuse fertilizer and degrade soil health because they are not properly guided on which fertilizer is best for certain crops, soil, and seasonal conditions.  Compost, manure, and vermicompost are examples of biofertilizers that provide a sustainable substitute; nevertheless, there is no straightforward method for recommending them.  In order to assist farmers use less chemicals, save money, and implement sustainable farming methods, an AI-powered recommendation system is required to identify appropriate bio-fertilizers.\n",
    "\n",
    "Project Description: This project focuses on developing an AI-powered Bio-Fertilizer Recommendation System to promote sustainable agriculture. The system takes input parameters such as soil nutrients (N, P, K, pH, etc.), crop type, and seasonal conditions, and then applies machine learning techniques to recommend the most suitable bio-fertilizer (e.g., compost, manure, vermicompost, Rhizobium).\n",
    "\n",
    "The workflow of the project includes data preprocessing, feature encoding, and model training using classification algorithms like Random Forest. The model is trained on a modified crop–fertilizer dataset, where chemical fertilizers are mapped to bio-fertilizer equivalents. A simple Streamlit-based web application is also developed, allowing users to enter crop and soil details and instantly receive fertilizer recommendations.\n",
    "\n",
    "By guiding farmers towards bio-fertilizer use, this project aims to reduce dependence on chemical inputs, improve soil fertility, lower farming costs, and promote eco-friendly farming practices, aligning with the vision of green skills and sustainable agriculture."
   ]
  },
  {
   "cell_type": "code",
   "execution_count": null,
   "id": "977bcef0",
   "metadata": {},
   "outputs": [],
   "source": [
    "import pandas as pd\n",
    "# Libraries\n",
    "from sklearn.preprocessing import LabelEncoder, StandardScaler\n",
    "from sklearn.model_selection import train_test_split\n",
    "import pandas as pd\n",
    "import numpy as np\n",
    "import matplotlib.pyplot as plt\n",
    "import seaborn as sns\n",
    "\n",
    "from sklearn.model_selection import train_test_split, GridSearchCV\n",
    "from sklearn.preprocessing import StandardScaler, LabelEncoder\n",
    "from sklearn.ensemble import RandomForestClassifier\n",
    "from sklearn.metrics import accuracy_score, classification_report, confusion_matrix\n",
    "\n",
    "from imblearn.over_sampling import SMOTE\n"
   ]
  },
  {
   "cell_type": "code",
   "execution_count": null,
   "id": "4376ba8d",
   "metadata": {},
   "outputs": [],
   "source": [
    "crop_df = pd.read_csv(\n",
    "    r\"C:\\Users\\DELL\\Desktop\\AiMl\\AICT intenship\\Crop-and-Fertilizer-Recommendation-System-main\\Datasets\\Crop_recommendation.csv\"\n",
    ")\n",
    "\n",
    "fert_df = pd.read_csv(\n",
    "    r\"C:\\Users\\DELL\\Desktop\\AiMl\\AICT intenship\\Crop-and-Fertilizer-Recommendation-System-main\\Datasets\\fertilizer.csv\",\n",
    "    encoding='latin1'\n",
    ")\n",
    "\n",
    "print(\"Crop Dataset Shape:\", crop_df.shape)\n",
    "print(\"Fertilizer Dataset Shape:\", fert_df.shape)"
   ]
  },
  {
   "cell_type": "code",
   "execution_count": 17,
   "id": "7fa9c85a",
   "metadata": {},
   "outputs": [
    {
     "name": "stdout",
     "output_type": "stream",
     "text": [
      "Prepared Dataset Shape: (2200, 9)\n"
     ]
    }
   ],
   "source": [
    "crop_to_biofert = {\n",
    "    \"rice\": \"Compost\",\n",
    "    \"wheat\": \"Vermicompost\",\n",
    "    \"maize\": \"Farmyard Manure\",\n",
    "    \"millet\": \"Rhizobium\",\n",
    "    \"barley\": \"Azospirillum\",\n",
    "    # Add other crop labels as needed\n",
    "}\n",
    "\n",
    "data = crop_df.copy()\n",
    "\n",
    "if 'label' in data.columns:\n",
    "    data[\"BioFertilizer\"] = data[\"label\"].map(crop_to_biofert)\n",
    "    data[\"BioFertilizer\"] = data[\"BioFertilizer\"].fillna(\"Compost\")  # Avoid warnings\n",
    "else:\n",
    "    data[\"BioFertilizer\"] = \"Compost\"\n",
    "\n",
    "print(\"Prepared Dataset Shape:\", data.shape)\n"
   ]
  },
  {
   "cell_type": "markdown",
   "id": "c64858be",
   "metadata": {},
   "source": [
    "Feature Engineering"
   ]
  },
  {
   "cell_type": "code",
   "execution_count": 23,
   "id": "f1c76fb5",
   "metadata": {},
   "outputs": [],
   "source": [
    "if all(col in data.columns for col in [\"N\", \"P\", \"K\"]):\n",
    "    data[\"N_to_P\"] = data[\"N\"] / (data[\"P\"] + 1)\n",
    "    data[\"N_to_K\"] = data[\"N\"] / (data[\"K\"] + 1)\n",
    "    data[\"P_to_K\"] = data[\"P\"] / (data[\"K\"] + 1)\n"
   ]
  },
  {
   "cell_type": "markdown",
   "id": "19de4f40",
   "metadata": {},
   "source": [
    "Define Features & Target"
   ]
  },
  {
   "cell_type": "code",
   "execution_count": 19,
   "id": "9dfc5438",
   "metadata": {},
   "outputs": [],
   "source": [
    "X = data.drop(columns=[\"label\", \"BioFertilizer\"], errors=\"ignore\")\n",
    "X = X.select_dtypes(include=[np.number])  # Use numeric features only\n",
    "y = data[\"BioFertilizer\"]\n",
    "\n",
    "# Scale numeric features\n",
    "scaler = StandardScaler()\n",
    "X_scaled = scaler.fit_transform(X)\n"
   ]
  },
  {
   "cell_type": "markdown",
   "id": "b4b571de",
   "metadata": {},
   "source": [
    "SMOTE stands for Synthetic Minority Over-sampling Technique. It’s a technique used in machine learning to balance imbalanced datasets, especially in classification problems."
   ]
  },
  {
   "cell_type": "code",
   "execution_count": null,
   "id": "0bb00bb0",
   "metadata": {},
   "outputs": [],
   "source": [
    "le = LabelEncoder()\n",
    "y_encoded = le.fit_transform(y)"
   ]
  },
  {
   "cell_type": "code",
   "execution_count": 21,
   "id": "727f21b0",
   "metadata": {},
   "outputs": [
    {
     "name": "stdout",
     "output_type": "stream",
     "text": [
      "Balanced dataset shape: (4200, 10) (4200,)\n"
     ]
    }
   ],
   "source": [
    "smote = SMOTE(random_state=42)\n",
    "X_res, y_res_encoded = smote.fit_resample(X_scaled, y_encoded)\n",
    "print(\"Balanced dataset shape:\", X_res.shape, y_res_encoded.shape)"
   ]
  },
  {
   "cell_type": "code",
   "execution_count": 24,
   "id": "3bd8fe89",
   "metadata": {},
   "outputs": [],
   "source": [
    "X_train, X_test, y_train_encoded, y_test_encoded = train_test_split(\n",
    "    X_res, y_res_encoded, test_size=0.2, random_state=42, stratify=y_res_encoded\n",
    ")"
   ]
  },
  {
   "cell_type": "code",
   "execution_count": null,
   "id": "953f0f24",
   "metadata": {},
   "outputs": [],
   "source": [
    "# Train Random Forest with GridSearch\n",
    "param_grid = {\n",
    "    'n_estimators': [100, 200],\n",
    "    'max_depth': [10, 20, None],\n",
    "    'min_samples_split': [2, 5],\n",
    "    'min_samples_leaf': [1, 2]\n",
    "}\n",
    "\n",
    "grid = GridSearchCV(\n",
    "    RandomForestClassifier(random_state=42),\n",
    "    param_grid,\n",
    "    cv=3,\n",
    "    scoring='accuracy',\n",
    "    n_jobs=-1\n",
    ")\n",
    "\n",
    "grid.fit(X_train, y_train_encoded)\n",
    "best_model = grid.best_estimator_\n"
   ]
  },
  {
   "cell_type": "code",
   "execution_count": 25,
   "id": "a81ecf7f",
   "metadata": {},
   "outputs": [
    {
     "name": "stdout",
     "output_type": "stream",
     "text": [
      "\n",
      "Best Parameters: {'max_depth': 10, 'min_samples_leaf': 1, 'min_samples_split': 2, 'n_estimators': 100}\n",
      "Accuracy: 1.0\n",
      "\n",
      "Classification Report:\n",
      "                  precision    recall  f1-score   support\n",
      "\n",
      "        Compost       1.00      1.00      1.00       420\n",
      "Farmyard Manure       1.00      1.00      1.00       420\n",
      "\n",
      "       accuracy                           1.00       840\n",
      "      macro avg       1.00      1.00      1.00       840\n",
      "   weighted avg       1.00      1.00      1.00       840\n",
      "\n"
     ]
    },
    {
     "data": {
      "image/png": "[encoded data removed]",
      "text/plain": [
       "<Figure size 800x600 with 2 Axes>"
      ]
     },
     "metadata": {},
     "output_type": "display_data"
    }
   ],
   "source": [
    "y_pred_encoded = best_model.predict(X_test)\n",
    "y_pred = le.inverse_transform(y_pred_encoded)\n",
    "y_test = le.inverse_transform(y_test_encoded)\n",
    "\n",
    "print(\"\\nBest Parameters:\", grid.best_params_)\n",
    "print(\"Accuracy:\", accuracy_score(y_test, y_pred))\n",
    "print(\"\\nClassification Report:\\n\", classification_report(y_test, y_pred))\n",
    "\n",
    "# Confusion Matrix\n",
    "plt.figure(figsize=(8,6))\n",
    "sns.heatmap(confusion_matrix(y_test, y_pred), annot=True, fmt=\"d\", cmap=\"Blues\")\n",
    "plt.title(\"Confusion Matrix\")\n",
    "plt.xlabel(\"Predicted\")\n",
    "plt.ylabel(\"Actual\")\n",
    "plt.show()\n"
   ]
  },
  {
   "cell_type": "markdown",
   "id": "b93cb8fe",
   "metadata": {},
   "source": [
    "The Bio-Fertilizer Recommendation System takes soil and environmental data as input and predicts the most suitable bio-fertilizer along with its recommended dosage. First, crop and fertilizer datasets are loaded and preprocessed, mapping crops to bio-fertilizers and filling missing labels. Nutrient ratio features (N/P, N/K, P/K) are engineered to enhance model learning. Numeric features are scaled, and the target labels are encoded for balancing using SMOTE to handle class imbalance. The dataset is then split into training and testing sets. A Random Forest classifier is trained with hyperparameter tuning via GridSearchCV. The model is evaluated using accuracy, classification metrics, and a confusion matrix. Finally, an interactive input interface allows users to provide soil and environmental values, which are processed and scaled before being passed to the trained model to predict the recommended bio-fertilizer and its dosage."
   ]
  }
 ],
 "metadata": {
  "kernelspec": {
   "display_name": "Python 3",
   "language": "python",
   "name": "python3"
  },
  "language_info": {
   "codemirror_mode": {
    "name": "ipython",
    "version": 3
   },
   "file_extension": ".py",
   "mimetype": "text/x-python",
   "name": "python",
   "nbconvert_exporter": "python",
   "pygments_lexer": "ipython3",
   "version": "3.12.0"
  }
 },
 "nbformat": 4,
 "nbformat_minor": 5
}
