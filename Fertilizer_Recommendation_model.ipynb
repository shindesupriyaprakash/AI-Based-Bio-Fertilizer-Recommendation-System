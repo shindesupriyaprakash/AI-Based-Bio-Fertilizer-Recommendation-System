{
 "cells": [
  {
   "cell_type": "markdown",
   "id": "fec951f0",
   "metadata": {},
   "source": [
    "Project Title: Bio-Fertilizer Recommendation System for Sustainable Agriculture\n",
    "\n",
    "Problem Statement: The overuse of chemical fertilizers in agriculture has resulted in high farming expenses, water contamination, and soil damage.  Farmers frequently abuse fertilizer and degrade soil health because they are not properly guided on which fertilizer is best for certain crops, soil, and seasonal conditions.  Compost, manure, and vermicompost are examples of biofertilizers that provide a sustainable substitute; nevertheless, there is no straightforward method for recommending them.  In order to assist farmers use less chemicals, save money, and implement sustainable farming methods, an AI-powered recommendation system is required to identify appropriate bio-fertilizers.\n",
    "\n",
    "Project Description: This project focuses on developing an AI-powered Bio-Fertilizer Recommendation System to promote sustainable agriculture. The system takes input parameters such as soil nutrients (N, P, K, pH, etc.), crop type, and seasonal conditions, and then applies machine learning techniques to recommend the most suitable bio-fertilizer (e.g., compost, manure, vermicompost, Rhizobium).\n",
    "\n",
    "The workflow of the project includes data preprocessing, feature encoding, and model training using classification algorithms like Random Forest. The model is trained on a modified crop–fertilizer dataset, where chemical fertilizers are mapped to bio-fertilizer equivalents. A simple Streamlit-based web application is also developed, allowing users to enter crop and soil details and instantly receive fertilizer recommendations.\n",
    "\n",
    "By guiding farmers towards bio-fertilizer use, this project aims to reduce dependence on chemical inputs, improve soil fertility, lower farming costs, and promote eco-friendly farming practices, aligning with the vision of green skills and sustainable agriculture."
   ]
  },
  {
   "cell_type": "code",
   "execution_count": null,
   "id": "977bcef0",
   "metadata": {},
   "outputs": [],
   "source": [
    "import pandas as pd\n",
    "# Libraries\n",
    "from sklearn.preprocessing import LabelEncoder, StandardScaler\n",
    "from sklearn.model_selection import train_test_split"
   ]
  },
  {
   "cell_type": "code",
   "execution_count": null,
   "id": "4376ba8d",
   "metadata": {},
   "outputs": [],
   "source": [
    "# Datasets\n",
    "crop_df = pd.read_csv(\n",
    "    r\"C:\\Users\\DELL\\Desktop\\AiMl\\AICT intenship\\Crop-and-Fertilizer-Recommendation-System-main\\Datasets\\Crop_recommendation.csv\",\n",
    "    encoding='utf-8'\n",
    ")\n",
    "\n",
    "fert_df = pd.read_csv(\n",
    "    r\"C:\\Users\\DELL\\Desktop\\AiMl\\AICT intenship\\Crop-and-Fertilizer-Recommendation-System-main\\Datasets\\fertilizer.csv\",\n",
    "    encoding='latin1' \n",
    ")"
   ]
  },
  {
   "cell_type": "code",
   "execution_count": 7,
   "id": "ee548b6d",
   "metadata": {},
   "outputs": [
    {
     "name": "stdout",
     "output_type": "stream",
     "text": [
      "Crop Dataset:\n",
      "     N   P   K  temperature   humidity        ph    rainfall label\n",
      "0  90  42  43    20.879744  82.002744  6.502985  202.935536  rice\n",
      "1  85  58  41    21.770462  80.319644  7.038096  226.655537  rice\n",
      "2  60  55  44    23.004459  82.320763  7.840207  263.964248  rice\n",
      "3  74  35  40    26.491096  80.158363  6.980401  242.864034  rice\n",
      "4  78  42  42    20.130175  81.604873  7.628473  262.717340  rice\n",
      "\n",
      "Fertilizer Dataset:\n",
      "    Nitrogen (n)  Phosphorus (p)  Potassium (k)               Fertilizer\n",
      "0           6.6             3.0            2.0          Cottonseed Meal\n",
      "1           8.5             7.4            0.0      Ground Fish (Dried)\n",
      "2           5.0             5.0            6.5  Fish, Blood & Bone meal\n",
      "3           5.0             3.0            0.0  Activated Sewage Sludge\n",
      "4          12.0             0.0            0.0               Blood Meal\n"
     ]
    }
   ],
   "source": [
    "print(\"Crop Dataset:\\n\", crop_df.head())\n",
    "print(\"\\nFertilizer Dataset:\\n\", fert_df.head())"
   ]
  },
  {
   "cell_type": "code",
   "execution_count": 8,
   "id": "07b0eccd",
   "metadata": {},
   "outputs": [],
   "source": [
    "crop_df = crop_df.drop_duplicates().dropna()\n",
    "fert_df = fert_df.drop_duplicates().dropna()"
   ]
  },
  {
   "cell_type": "code",
   "execution_count": null,
   "id": "d79138c7",
   "metadata": {},
   "outputs": [],
   "source": [
    "# Map Chemical → Bio-Fertilizers\n",
    "fertilizer_map = {\n",
    "    \"Urea\": \"Compost/Manure\",\n",
    "    \"DAP\": \"Vermicompost\",\n",
    "    \"Potash\": \"Rhizobium\",\n",
    "    \"Superphosphate\": \"PSB\",\n",
    "    \"Ammonium Sulphate\": \"Azospirillum\"\n",
    "}\n",
    "fert_df['Fertilizer'] = fert_df['Fertilizer'].map(fertilizer_map)"
   ]
  },
  {
   "cell_type": "code",
   "execution_count": null,
   "id": "c42cf632",
   "metadata": {},
   "outputs": [],
   "source": [
    "# Added Season Column\n",
    "def assign_season(crop):\n",
    "    if crop in [\"rice\", \"maize\"]: return \"Rainy\"\n",
    "    elif crop in [\"wheat\", \"barley\"]: return \"Winter\"\n",
    "    elif crop in [\"mango\", \"banana\", \"vegetables\"]: return \"Summer\"\n",
    "    else: return \"All\"\n",
    "\n",
    "crop_df[\"Season\"] = crop_df[\"label\"].apply(assign_season)"
   ]
  },
  {
   "cell_type": "code",
   "execution_count": null,
   "id": "7c76811b",
   "metadata": {},
   "outputs": [
    {
     "name": "stdout",
     "output_type": "stream",
     "text": [
      "Crop dataset columns: Index(['N', 'P', 'K', 'temperature', 'humidity', 'ph', 'rainfall', 'label',\n",
      "       'Season'],\n",
      "      dtype='object')\n",
      "Fertilizer dataset columns: Index(['Nitrogen (n)', 'Phosphorus (p)', 'Potassium (k)', 'Fertilizer'], dtype='object')\n"
     ]
    }
   ],
   "source": [
    "print(\"Crop dataset columns:\", crop_df.columns)\n",
    "print(\"Fertilizer dataset columns:\", fert_df.columns)"
   ]
  },
  {
   "cell_type": "code",
   "execution_count": null,
   "id": "98a5c60d",
   "metadata": {},
   "outputs": [],
   "source": [
    "crop_to_fert = {\n",
    "    \"rice\": \"Compost/Manure\",\n",
    "    \"wheat\": \"Vermicompost\",\n",
    "    \"maize\": \"Rhizobium\",\n",
    "    \"sugarcane\": \"Azospirillum\"\n",
    "}\n",
    "\n",
    "crop_df[\"Fertilizer\"] = crop_df[\"label\"].map(crop_to_fert)"
   ]
  },
  {
   "cell_type": "code",
   "execution_count": null,
   "id": "453d2757",
   "metadata": {},
   "outputs": [
    {
     "name": "stdout",
     "output_type": "stream",
     "text": [
      "Crop Dataset:\n",
      "     N   P   K  temperature   humidity        ph    rainfall label Season  \\\n",
      "0  90  42  43    20.879744  82.002744  6.502985  202.935536  rice  Rainy   \n",
      "1  85  58  41    21.770462  80.319644  7.038096  226.655537  rice  Rainy   \n",
      "2  60  55  44    23.004459  82.320763  7.840207  263.964248  rice  Rainy   \n",
      "3  74  35  40    26.491096  80.158363  6.980401  242.864034  rice  Rainy   \n",
      "4  78  42  42    20.130175  81.604873  7.628473  262.717340  rice  Rainy   \n",
      "\n",
      "       Fertilizer  \n",
      "0  Compost/Manure  \n",
      "1  Compost/Manure  \n",
      "2  Compost/Manure  \n",
      "3  Compost/Manure  \n",
      "4  Compost/Manure  \n"
     ]
    }
   ],
   "source": [
    "print(\"Crop Dataset:\\n\", crop_df.head())"
   ]
  }
 ],
 "metadata": {
  "kernelspec": {
   "display_name": "Python 3",
   "language": "python",
   "name": "python3"
  },
  "language_info": {
   "codemirror_mode": {
    "name": "ipython",
    "version": 3
   },
   "file_extension": ".py",
   "mimetype": "text/x-python",
   "name": "python",
   "nbconvert_exporter": "python",
   "pygments_lexer": "ipython3",
   "version": "3.12.0"
  }
 },
 "nbformat": 4,
 "nbformat_minor": 5
}
